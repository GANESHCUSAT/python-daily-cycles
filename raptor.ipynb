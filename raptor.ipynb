{
  "nbformat": 4,
  "nbformat_minor": 0,
  "metadata": {
    "colab": {
      "provenance": [],
      "collapsed_sections": [
        "t70z5YXDSU1F",
        "_EgPNFWWR9uC",
        "DOUriiF_R4ph"
      ],
      "authorship_tag": "ABX9TyNhx5MiFadbJNBvlXkev5Op",
      "include_colab_link": true
    },
    "kernelspec": {
      "name": "python3",
      "display_name": "Python 3"
    },
    "language_info": {
      "name": "python"
    }
  },
  "cells": [
    {
      "cell_type": "markdown",
      "metadata": {
        "id": "view-in-github",
        "colab_type": "text"
      },
      "source": [
        "<a href=\"https://colab.research.google.com/github/GANESHCUSAT/python-daily-cycles/blob/main/raptor.ipynb\" target=\"_parent\"><img src=\"https://colab.research.google.com/assets/colab-badge.svg\" alt=\"Open In Colab\"/></a>"
      ]
    },
    {
      "cell_type": "markdown",
      "source": [
        "#set 1"
      ],
      "metadata": {
        "id": "_EgPNFWWR9uC"
      }
    },
    {
      "cell_type": "code",
      "source": [
        "#average of three numbers\n",
        "num1 = int(input(\"enter  number1: \"))\n",
        "num2 = int(input(\"enter  number2: \"))\n",
        "num3 = int(input(\"enter  number3: \"))\n",
        "sum = num1 + num2 + num3\n",
        "avg = sum/3\n",
        "print(\"average =\",avg)\n"
      ],
      "metadata": {
        "colab": {
          "base_uri": "https://localhost:8080/"
        },
        "id": "--riV_Imr-wM",
        "outputId": "257e5749-3fd0-4292-90de-5281f8e315e1"
      },
      "execution_count": null,
      "outputs": [
        {
          "output_type": "stream",
          "name": "stdout",
          "text": [
            "enter  number14\n",
            "enter  number25\n",
            "enter  number36\n",
            "average = 5.0\n"
          ]
        }
      ]
    },
    {
      "cell_type": "code",
      "source": [
        "#area of a circle\n",
        "radius = int(input(\"enter the radius of a circle: \"))\n",
        "pi = 3.14\n",
        "area = pi*radius*radius\n",
        "print(\"area of the circle= \",area)"
      ],
      "metadata": {
        "colab": {
          "base_uri": "https://localhost:8080/"
        },
        "id": "vFA0CDugvAUK",
        "outputId": "43138146-51cc-4ca9-95c9-a64296e02ca6"
      },
      "execution_count": null,
      "outputs": [
        {
          "output_type": "stream",
          "name": "stdout",
          "text": [
            "enter the radius of a circle5\n",
            "area of the circle=  78.5\n"
          ]
        }
      ]
    },
    {
      "cell_type": "code",
      "source": [
        "#time prblm\n",
        "time = int(input(\"enter the time in seconds: \"))\n",
        "hrs = (time // 3600)\n",
        "mins = (time % 3600) // 60\n",
        "secs = time - ((hrs*3600) + (mins*60))\n",
        "print(\"hrs: \",hrs)\n",
        "print(\"mins : \",mins)\n",
        "print(\"secs: \",secs)"
      ],
      "metadata": {
        "colab": {
          "base_uri": "https://localhost:8080/"
        },
        "id": "vU6Cg21gsxJ6",
        "outputId": "d61e7f57-3194-4bfc-806d-2734b253754d"
      },
      "execution_count": null,
      "outputs": [
        {
          "output_type": "stream",
          "name": "stdout",
          "text": [
            "enter the time in seconds: 25300\n",
            "hrs:  7\n",
            "mins :  1\n",
            "secs:  40\n"
          ]
        }
      ]
    },
    {
      "cell_type": "code",
      "source": [
        "#interchanging numbers \n",
        "num1 = int(input(\"enter number1: \"))\n",
        "num2 = int(input(\"enter number2: \"))\n",
        "num1 = (num1+num2)\n",
        "num2 = (num1-num2)\n",
        "num1 = (num1-num2)\n",
        "print(\"number1=\",num1)\n",
        "print(\"number2=\",num2)"
      ],
      "metadata": {
        "colab": {
          "base_uri": "https://localhost:8080/"
        },
        "id": "8ftjLI19vuIK",
        "outputId": "d024e3fc-12b5-4582-f8f6-9c80a135c44e"
      },
      "execution_count": null,
      "outputs": [
        {
          "output_type": "stream",
          "name": "stdout",
          "text": [
            "enter number1: 4\n",
            "enter number2: 6\n",
            "number1=  6\n",
            "number2=  4\n"
          ]
        }
      ]
    },
    {
      "cell_type": "code",
      "source": [
        "#maths\n",
        "num1 = int(input(\"enter number 1: \"))\n",
        "num2 = int(input(\"enter number 2: \"))\n",
        "sum = num1 + num2\n",
        "diff = num1 - num2\n",
        "product = num1 * num2 \n",
        "quotient = (num1//num2)\n",
        "remainder = num1 % num2\n",
        "print(\"sum=\",sum,\" ,difference=\",diff,\" ,product=\",product)\n",
        "print(\"qoutient=\",quotient,\",remainder=\",remainder)"
      ],
      "metadata": {
        "colab": {
          "base_uri": "https://localhost:8080/"
        },
        "id": "CLrPM9vAxL9M",
        "outputId": "68f3ef4d-e953-41b6-bd22-f639d4130af9"
      },
      "execution_count": 29,
      "outputs": [
        {
          "output_type": "stream",
          "name": "stdout",
          "text": [
            "enter number 1: 10\n",
            "enter number 2: 5\n",
            "sum= 15  ,difference= 5  ,product= 50\n",
            "qoutient= 2  ,remainder= 0\n"
          ]
        }
      ]
    },
    {
      "cell_type": "code",
      "source": [
        "#year prblm\n",
        "days = int(input(\"enter the number of days: \"))\n",
        "yrs = (days//365)\n",
        "mnths = ((days%365)//30)\n",
        "dys = days-(yrs*365 + mnths*30)\n",
        "print(\"years: \",yrs,\"months: \",mnths,\"days: \",dys)"
      ],
      "metadata": {
        "colab": {
          "base_uri": "https://localhost:8080/"
        },
        "id": "DeTGltWmzNx6",
        "outputId": "8f78efab-240a-439a-b4ce-fae9bd5512bf"
      },
      "execution_count": null,
      "outputs": [
        {
          "output_type": "stream",
          "name": "stdout",
          "text": [
            "enter the number of days395\n",
            "years:  1 months:  1 days:  0\n"
          ]
        }
      ]
    },
    {
      "cell_type": "code",
      "source": [
        "#area & perimeter of a triangle\n",
        "side1 = int(input(\"enter the measure of 1st side: \"))\n",
        "side2 = int(input(\"enter the measure of 2nd side: \"))\n",
        "side3 = int(input(\"enter the measure of 3rd side: \"))\n",
        "import math\n",
        "perimeter = side1+side2+side3\n",
        "s = perimeter/2\n",
        "area = math.sqrt(s*(s-side1)*(s-side2)*(s-side3))\n",
        "print(\"perimeter=\",perimeter,\"area=\",area)\n"
      ],
      "metadata": {
        "colab": {
          "base_uri": "https://localhost:8080/"
        },
        "id": "bhR0oIts0u2z",
        "outputId": "b6c291d8-2740-4db6-bda0-350354c4eb19"
      },
      "execution_count": null,
      "outputs": [
        {
          "output_type": "stream",
          "name": "stdout",
          "text": [
            "enter the measure of 1st side3\n",
            "enter the measure of 2nd side4\n",
            "enter the measure of 3rd side5\n",
            "perimeter=  12 area=  6.0\n"
          ]
        }
      ]
    },
    {
      "cell_type": "markdown",
      "source": [
        "#set2"
      ],
      "metadata": {
        "id": "DOUriiF_R4ph"
      }
    },
    {
      "cell_type": "code",
      "source": [
        "#greatest number among 2 numbers\n",
        "num1=int(input(\"enter number1: \"))\n",
        "num2=int(input(\"enter number2: \"))\n",
        "\n",
        "if num1>num2:\n",
        "  print(num1,\" is greater than\",num2)\n",
        "elif num2>num1:  \n",
        "  print(num2,\" is greater than\",num1)\n",
        "else:\n",
        "  print(\"both numbers are same\")  "
      ],
      "metadata": {
        "colab": {
          "base_uri": "https://localhost:8080/"
        },
        "id": "024E2HyD6AdT",
        "outputId": "95640473-7bd5-4815-c7b6-58231265a795"
      },
      "execution_count": null,
      "outputs": [
        {
          "output_type": "stream",
          "name": "stdout",
          "text": [
            "enter number1: 0\n",
            "enter number2: 0\n",
            "both numbers are same\n"
          ]
        }
      ]
    },
    {
      "cell_type": "code",
      "source": [
        "#greatest number among 3 numbers\n",
        "num1=int(input(\"enter number1: \"))\n",
        "num2=int(input(\"enter number2: \"))\n",
        "num3=int(input(\"enter number3: \"))\n",
        "if num1>num2 and num1>num3:\n",
        "  print(num1,\" is the greatest number\")\n",
        "elif num2>num1 and num2>num3:\n",
        "  print(num2,\" is the greatest number\")\n",
        "elif num3>num1 and num3>num2:\n",
        "  print(num3,\" is the greatest number\")\n",
        "elif num1==num2==num3:\n",
        "  print(\"all the numbers are same\")  "
      ],
      "metadata": {
        "colab": {
          "base_uri": "https://localhost:8080/"
        },
        "id": "oPK9X9dy8vBj",
        "outputId": "983ee4fe-f46a-4dbb-cb7e-e695c0ee3b6f"
      },
      "execution_count": null,
      "outputs": [
        {
          "output_type": "stream",
          "name": "stdout",
          "text": [
            "enter number1: 4\n",
            "enter number2: 4\n",
            "enter number3: 4\n",
            "all the numbers are same\n"
          ]
        }
      ]
    },
    {
      "cell_type": "code",
      "source": [
        "#positive or negative\n",
        "number=int(input(\"enter a number: \"))\n",
        "if number<0:\n",
        "  print(number,\"is a negative number\")\n",
        "elif number>0:\n",
        "  print(number,\"is a positive number\")\n",
        "else:\n",
        "  print(\"given number is zero\")"
      ],
      "metadata": {
        "colab": {
          "base_uri": "https://localhost:8080/"
        },
        "id": "Ic_G9fqZ-t1g",
        "outputId": "a926eb09-15fb-4340-e201-3f8be0256a8e"
      },
      "execution_count": null,
      "outputs": [
        {
          "output_type": "stream",
          "name": "stdout",
          "text": [
            "enter a number: -145\n",
            "-145 is a negative number\n"
          ]
        }
      ]
    },
    {
      "cell_type": "code",
      "source": [
        "#tow digit or not\n",
        "number=int(input(\"enter a number: \"))\n",
        "if number>97 and number<100:\n",
        "  print(\"given number is a two digit number\")\n",
        "else:\n",
        "  print(\"given number is not a two digit number\")"
      ],
      "metadata": {
        "colab": {
          "base_uri": "https://localhost:8080/"
        },
        "id": "ZiLo8zo-C7Q0",
        "outputId": "f790b0b4-956e-4ce7-a93a-52a81daef3a8"
      },
      "execution_count": null,
      "outputs": [
        {
          "output_type": "stream",
          "name": "stdout",
          "text": [
            "enter a number: 98\n",
            "given number is a two digit number\n"
          ]
        }
      ]
    },
    {
      "cell_type": "code",
      "source": [
        "#multiples of each other\n",
        "num1=int(input(\"enter number1: \"))\n",
        "num2=int(input(\"enter number2: \"))\n",
        "if num1%num2==0 or num2%num1==0:\n",
        "  print(\"given numbers are multiples of each other\")\n",
        "else:\n",
        "  print(\"given numbers are not multiples of each other\")\n",
        "\n"
      ],
      "metadata": {
        "colab": {
          "base_uri": "https://localhost:8080/"
        },
        "id": "NmAPiG68HOhA",
        "outputId": "deedfc3b-261e-42f0-c3b9-be37de7701f1"
      },
      "execution_count": null,
      "outputs": [
        {
          "output_type": "stream",
          "name": "stdout",
          "text": [
            "enter number1: 11\n",
            "enter number2: 33\n",
            "given numbers are multiples of each other\n"
          ]
        }
      ]
    },
    {
      "cell_type": "code",
      "source": [
        "#smallest digit in a number\n",
        "num=int(input(\"enter a two digit number: \"))\n",
        "digit1=num % 10\n",
        "digit2=(num-digit1)/10\n",
        "if digit1>digit2:\n",
        "  print(digit2,\" is the smallest digit\")\n",
        "else:\n",
        "  print(digit1,\" is the smallest digit\")\n",
        "\n"
      ],
      "metadata": {
        "colab": {
          "base_uri": "https://localhost:8080/"
        },
        "id": "-_X8uPWnJ_fI",
        "outputId": "50fbfb08-3dd1-4c78-8fdb-f0738867d28b"
      },
      "execution_count": null,
      "outputs": [
        {
          "output_type": "stream",
          "name": "stdout",
          "text": [
            "enter a two digit number38\n",
            "3.0  is the smallest digit\n"
          ]
        }
      ]
    },
    {
      "cell_type": "code",
      "source": [
        "#distance in a number line\n",
        "num1=int(input(\"enter  number1: \"))\n",
        "num2=int(input(\"enter  number2: \"))\n",
        "c=num1-(num2)\n",
        "if c<0:\n",
        "  d=-(c)\n",
        "  print(\"distance is =\",d)\n",
        "else:\n",
        "  print(\"distance is =\",c)"
      ],
      "metadata": {
        "colab": {
          "base_uri": "https://localhost:8080/"
        },
        "id": "A73Ts_tXMb7B",
        "outputId": "33762677-284d-45ee-c828-6b36d9148629"
      },
      "execution_count": null,
      "outputs": [
        {
          "output_type": "stream",
          "name": "stdout",
          "text": [
            "enter  number1: 4\n",
            "enter  number2: -5\n",
            "distance is = 9\n"
          ]
        }
      ]
    },
    {
      "cell_type": "code",
      "source": [
        "#quadratic equation\n",
        "a=int(input(\"enter the coefficient of x^2: \"))\n",
        "b=int(input(\"enter the coefficient of x: \"))\n",
        "c=int(input(\"enter the constant: \"))\n",
        "d=b*b-(4*a*c)\n",
        "if d>0:\n",
        "  print(\"roots are distinct and real\")\n",
        "elif d<0:\n",
        "  print(\"roots are imaginary roots\")\n",
        "else :\n",
        "  print(\"roots are equal\")"
      ],
      "metadata": {
        "colab": {
          "base_uri": "https://localhost:8080/"
        },
        "id": "SQkKmZmRN2Ex",
        "outputId": "70fed61e-5ae2-4311-90c0-4bc6a577b323"
      },
      "execution_count": null,
      "outputs": [
        {
          "output_type": "stream",
          "name": "stdout",
          "text": [
            "enter the coefficient of x^2: 1\n",
            "enter the coefficient of x: 2\n",
            "enter the constant: -15\n",
            "roots are distinct and real\n"
          ]
        }
      ]
    },
    {
      "cell_type": "code",
      "source": [
        "number=int(input(\"enter a number: \"))\n",
        "f=2\n",
        "c=0\n",
        "while f<=number//2:\n",
        "  if number%f==0:\n",
        "    c=c+1\n",
        "    break\n",
        "  f=f+1\n",
        "if c==0:\n",
        "  print(number,\"is a prime\")\n",
        "else:\n",
        "  print(number,\"is not a prime\")"
      ],
      "metadata": {
        "colab": {
          "base_uri": "https://localhost:8080/"
        },
        "id": "O2Y2KMHD93Rb",
        "outputId": "95229ef8-b28b-468f-9eda-a68a14e2b8b9"
      },
      "execution_count": null,
      "outputs": [
        {
          "output_type": "stream",
          "name": "stdout",
          "text": [
            "enter a number: 24\n",
            "24 is not a prime\n"
          ]
        }
      ]
    },
    {
      "cell_type": "markdown",
      "source": [
        "#set 3\n"
      ],
      "metadata": {
        "id": "t70z5YXDSU1F"
      }
    },
    {
      "cell_type": "code",
      "source": [
        "#reverse of a number\n",
        "number=int(input(\"enter a number: \"))\n",
        "sum=0\n",
        "while number>0:\n",
        "  remainder=number%10\n",
        "  sum=(sum*10)+remainder\n",
        "  number=(number-remainder)/10\n",
        "print(\"reverse of the given nmumber is=\",sum)"
      ],
      "metadata": {
        "colab": {
          "base_uri": "https://localhost:8080/"
        },
        "id": "3c_uimj1Saxh",
        "outputId": "49023856-065a-4195-e6a1-5dd586dc76b0"
      },
      "execution_count": null,
      "outputs": [
        {
          "output_type": "stream",
          "name": "stdout",
          "text": [
            "enter a number: 1234\n",
            "4321.0\n"
          ]
        }
      ]
    },
    {
      "cell_type": "code",
      "source": [
        "#sum of n natural numbers\n",
        "n=int(input(\"enter the numbers of natural numbers: \"))\n",
        "i=0\n",
        "sum=0\n",
        "while i<=n:\n",
        "  sum=sum+i\n",
        "  i=i+1\n",
        "print(\"sum of \",n,\" natural numbers= \",sum)  "
      ],
      "metadata": {
        "colab": {
          "base_uri": "https://localhost:8080/"
        },
        "id": "VVykOrF7Tmvq",
        "outputId": "c93f7491-71c0-4f25-a2c3-c27c464a5bc1"
      },
      "execution_count": null,
      "outputs": [
        {
          "output_type": "stream",
          "name": "stdout",
          "text": [
            "enter the numbers of natural numbers10\n",
            "sum of  10  natural numbers=  55\n"
          ]
        }
      ]
    },
    {
      "cell_type": "code",
      "source": [
        "#sum of factors of a number\n",
        "number=int(input(\"enter a number: \"))\n",
        "factor=2\n",
        "sum=number+1\n",
        "while factor<=number//2:\n",
        "  if number%factor==0:\n",
        "    sum=sum+factor\n",
        "  factor=factor+1\n",
        "print(\"sum of factors of\",number,\"=\",sum)\n"
      ],
      "metadata": {
        "colab": {
          "base_uri": "https://localhost:8080/"
        },
        "id": "6itDFr6qTfNS",
        "outputId": "8fc7fc05-cb3d-4b73-903e-df7a25a26e91"
      },
      "execution_count": 25,
      "outputs": [
        {
          "output_type": "stream",
          "name": "stdout",
          "text": [
            "enter a number: 24\n",
            "sum of factors of 24 = 60\n"
          ]
        }
      ]
    },
    {
      "cell_type": "code",
      "source": [
        "#n term of a arithmetic sequence\n",
        "first_term=int(input(\"enter the first term: \"))\n",
        "common_diff=int(input(\"enter the common difference: \"))\n",
        "n=int(input(\"enter the number of terms: \"))\n",
        "i=1\n",
        "while i<=n:\n",
        "  print(first_term)\n",
        "  first_term = first_term + common_diff\n",
        "  i=i+1"
      ],
      "metadata": {
        "colab": {
          "base_uri": "https://localhost:8080/"
        },
        "id": "DLt7K5pJWr0z",
        "outputId": "79c21b4a-9d2b-497a-8e24-3f62c2408275"
      },
      "execution_count": 26,
      "outputs": [
        {
          "output_type": "stream",
          "name": "stdout",
          "text": [
            "enter the first term: 2\n",
            "enter the common difference: 4\n",
            "enter the number of terms: 6\n",
            "2\n",
            "6\n",
            "10\n",
            "14\n",
            "18\n",
            "22\n"
          ]
        }
      ]
    },
    {
      "cell_type": "code",
      "source": [
        "#palindrome\n",
        "number=int(input(\"enter a number: \"))\n",
        "sum=0\n",
        "a=number\n",
        "while a>0:\n",
        "  r=a%10\n",
        "  sum=sum*10+r\n",
        "  a=(a-r)/10\n",
        "if sum==number:\n",
        "  print(\"given number is a palindrome\")\n",
        "else:\n",
        "   print(\"given number is not a palindrome\") \n"
      ],
      "metadata": {
        "colab": {
          "base_uri": "https://localhost:8080/"
        },
        "id": "r2tLZiSFXanz",
        "outputId": "548db2af-c92d-42b2-ccc9-5797f03c697f"
      },
      "execution_count": 28,
      "outputs": [
        {
          "output_type": "stream",
          "name": "stdout",
          "text": [
            "enter a number: 1221\n",
            "given number is a palindrome\n"
          ]
        }
      ]
    },
    {
      "cell_type": "code",
      "source": [
        "#fibonacci series\n",
        "n=int(input(\"enter the number of terms: \"))\n",
        "i=0\n",
        "n1=0\n",
        "n2=1\n",
        "if n==1:\n",
        "  print(\"0\")\n",
        "elif n==2:\n",
        "  print(\"0\",\"1\")\n",
        "else:\n",
        "  print(\"0\"),print(\"1\")\n",
        "  while i<(n-2):\n",
        "    sum=n1+n2\n",
        "    print(sum)\n",
        "    n1=n2\n",
        "    n2=sum\n",
        "    i+=1"
      ],
      "metadata": {
        "colab": {
          "base_uri": "https://localhost:8080/"
        },
        "id": "UUkke4taZhZ1",
        "outputId": "5fc02591-1c89-4254-e4b7-66e013bd1854"
      },
      "execution_count": null,
      "outputs": [
        {
          "output_type": "stream",
          "name": "stdout",
          "text": [
            "enter the number of terms: 6\n",
            "0\n",
            "1\n",
            "1\n",
            "2\n",
            "3\n",
            "5\n"
          ]
        }
      ]
    },
    {
      "cell_type": "code",
      "source": [
        "#armstrong number\n",
        "n=int(input(\"enter a number: \"))\n",
        "t=0\n",
        "a=n\n",
        "b=n\n",
        "sum=0\n",
        "while n>0:\n",
        "  r=n%10\n",
        "  t=t+1\n",
        "  n=(n-r)/10\n",
        "while a>0:\n",
        "  r=a%10\n",
        "  sum=sum+r**t\n",
        "  a=(a-r)/10\n",
        "if sum==b:\n",
        "  print(\"given number is a armstrong number\")\n",
        "else:  \n",
        "    print(\"given number is not a armstrong number\")\n",
        "  \n",
        "\n",
        "\n"
      ],
      "metadata": {
        "id": "NkYWxIkQbg5G",
        "colab": {
          "base_uri": "https://localhost:8080/"
        },
        "outputId": "43ae6edb-6e0f-4bda-9503-8619ccc4a1ca"
      },
      "execution_count": null,
      "outputs": [
        {
          "output_type": "stream",
          "name": "stdout",
          "text": [
            "enter a number: 153\n",
            "given number is a armstrong number\n"
          ]
        }
      ]
    },
    {
      "cell_type": "code",
      "source": [
        "#evaluate x^n\n",
        "base=int(input(\"enter the value of base: \"))\n",
        "power=int(input(\"enter the value of power: \"))\n",
        "result=1\n",
        "a=power\n",
        "if power==0:\n",
        "  result=1\n",
        "else:\n",
        "  while power>0:\n",
        "    result=result*base  \n",
        "    power=power-1\n",
        "print(base,\"^\",a,\"= \",result)    "
      ],
      "metadata": {
        "id": "CQ9FEq1cbV6E",
        "colab": {
          "base_uri": "https://localhost:8080/"
        },
        "outputId": "7b9f029a-c7dc-4772-a9e5-848db078e988"
      },
      "execution_count": null,
      "outputs": [
        {
          "output_type": "stream",
          "name": "stdout",
          "text": [
            "enter the value of base: 5\n",
            "enter the value of power: 3\n",
            "5 ^ 3 =  125\n"
          ]
        }
      ]
    },
    {
      "cell_type": "code",
      "source": [
        "#first n odd numbers\n",
        "n=int(input(\"enter the number of terms: \"))\n",
        "i=1\n",
        "j=1\n",
        "while j<=n:\n",
        "  if i%2==0:\n",
        "    i+=1\n",
        "  else:\n",
        "    print(i)\n",
        "    i+=1    \n",
        "    j+=1 "
      ],
      "metadata": {
        "colab": {
          "base_uri": "https://localhost:8080/"
        },
        "id": "HJJ6jA_8JwPG",
        "outputId": "a8d71bea-612c-45f2-eda4-1da76ec2b81b"
      },
      "execution_count": null,
      "outputs": [
        {
          "output_type": "stream",
          "name": "stdout",
          "text": [
            "enter the number of terms: 5\n",
            "1\n",
            "3\n",
            "5\n",
            "7\n",
            "9\n"
          ]
        }
      ]
    },
    {
      "cell_type": "code",
      "source": [
        "#factorial\n",
        "a=int(input(\"enter a number: \"))\n",
        "i=1\n",
        "p=1\n",
        "while i<=a:\n",
        "  p=p*i\n",
        "  i+=1\n",
        "print(p)\n"
      ],
      "metadata": {
        "colab": {
          "base_uri": "https://localhost:8080/"
        },
        "id": "3wCPTBQ4N4P2",
        "outputId": "861aa5f0-e7f6-494e-d2ba-8c6a3ac21ef2"
      },
      "execution_count": null,
      "outputs": [
        {
          "output_type": "stream",
          "name": "stdout",
          "text": [
            "enter a number: 5\n",
            "120\n"
          ]
        }
      ]
    },
    {
      "cell_type": "code",
      "source": [
        "#binary to decimal\n",
        "b=int(input(\"enter the binary number: \"))\n",
        "sum=0\n",
        "i=0\n",
        "while b>0:\n",
        "  r=b%10\n",
        "  if r==1:\n",
        "    sum=sum+(2**i)\n",
        "  b=(b-r)/10\n",
        "  i+=1\n",
        "\n",
        "  \n",
        "print(sum)    \n"
      ],
      "metadata": {
        "id": "3gVifw0TSNtO",
        "colab": {
          "base_uri": "https://localhost:8080/"
        },
        "outputId": "6281f32e-15cd-49cf-d570-9639ff9ecd84"
      },
      "execution_count": null,
      "outputs": [
        {
          "output_type": "stream",
          "name": "stdout",
          "text": [
            "enter the binary number: 101\n",
            "5\n"
          ]
        }
      ]
    },
    {
      "cell_type": "code",
      "source": [
        "# sum of a series\n",
        "a=int(input(\"enter the first term: \"))\n",
        "d=int(input(\"enter the common difference: \"))\n",
        "n=int(input(\"enter the number of terms: \"))\n",
        "i=1\n",
        "sum=0\n",
        "while i<=n:\n",
        "  sum=sum+a\n",
        "  a=a+d\n",
        "  i=i+1\n",
        "print(\"sum of\",n,\"terms of series=\",sum)  "
      ],
      "metadata": {
        "id": "XuNi3Dwd_hoA",
        "colab": {
          "base_uri": "https://localhost:8080/"
        },
        "outputId": "ec085e37-0e91-47bc-9794-2047f019cfc4"
      },
      "execution_count": 22,
      "outputs": [
        {
          "output_type": "stream",
          "name": "stdout",
          "text": [
            "enter the first term: 1\n",
            "enter the common difference: 1\n",
            "enter the number of terms: 10\n",
            "sum of 10 terms of series= 55\n"
          ]
        }
      ]
    },
    {
      "cell_type": "code",
      "source": [
        "#gcd of two numbers\n",
        "def common_elements(list1, list2):\n",
        "    result = []\n",
        "    for number in list1:\n",
        "        if number in list2:\n",
        "            result.append(number)\n",
        "    return result\n",
        "\n",
        "def lists(num):\n",
        "  j=1\n",
        "  list1 = []\n",
        "  while(j<=num):\n",
        "    if num%j==0:\n",
        "      list1.append(j)\n",
        "    j+=1\n",
        "  return list1\n",
        "\n",
        "num1 = int(input(\"enter the number 1 : \"))\n",
        "num2 = int(input(\"enter the number 2 : \"))\n",
        "\n",
        "a = lists(num1)\n",
        "b = lists(num2)\n",
        "final = common_elements(a,b)\n",
        "\n",
        "print(\"gcd is \",final[len(final)-1])"
      ],
      "metadata": {
        "id": "AmLwLf0hEsyk"
      },
      "execution_count": null,
      "outputs": []
    },
    {
      "cell_type": "code",
      "source": [
        "#automorphic number\n",
        "a=int(input(\"enter the number\"))\n",
        "b=a\n",
        "i=0\n",
        "t=0\n",
        "j=0\n",
        "sum=0\n",
        "while a>0:\n",
        "  r=a%10\n",
        "  t=t+1\n",
        "  a=(a-r)/10\n",
        "  i=i+1\n",
        "sqr=b*b\n",
        "while j<t:\n",
        "  r=sqr%10\n",
        "  sum=sum+r*(10**j)\n",
        "  print(sum)\n",
        "  sqr=(sqr-r)/10\n",
        "  j=j+1\n",
        " # print(sum)       \n",
        "if b==sum:\n",
        "  print(\"given number is a automorphic number\")\n",
        "else:\n",
        "  print(\"given number is not a automorphic number\")\n"
      ],
      "metadata": {
        "id": "HTG2FKCILk-Z"
      },
      "execution_count": null,
      "outputs": []
    }
  ]
}