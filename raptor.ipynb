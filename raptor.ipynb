{
  "nbformat": 4,
  "nbformat_minor": 0,
  "metadata": {
    "colab": {
      "provenance": [],
      "collapsed_sections": [
        "t70z5YXDSU1F",
        "_EgPNFWWR9uC",
        "DOUriiF_R4ph"
      ],
      "authorship_tag": "ABX9TyM4/L8yVbO4BniU8TL/j2/s",
      "include_colab_link": true
    },
    "kernelspec": {
      "name": "python3",
      "display_name": "Python 3"
    },
    "language_info": {
      "name": "python"
    }
  },
  "cells": [
    {
      "cell_type": "markdown",
      "metadata": {
        "id": "view-in-github",
        "colab_type": "text"
      },
      "source": [
        "<a href=\"https://colab.research.google.com/github/GANESHCUSAT/python-daily-cycles/blob/main/raptor.ipynb\" target=\"_parent\"><img src=\"https://colab.research.google.com/assets/colab-badge.svg\" alt=\"Open In Colab\"/></a>"
      ]
    },
    {
      "cell_type": "markdown",
      "source": [
        "#loop\n"
      ],
      "metadata": {
        "id": "t70z5YXDSU1F"
      }
    },
    {
      "cell_type": "code",
      "source": [
        "#reverse of a number\n",
        "a=int(input(\"enter a number: \"))\n",
        "sum=0\n",
        "while a>0:\n",
        "  r=a%10\n",
        "  sum=(sum*10)+r\n",
        "  a=(a-r)/10\n",
        "print(\"reverse of the given nmumber is=\",sum)"
      ],
      "metadata": {
        "colab": {
          "base_uri": "https://localhost:8080/"
        },
        "id": "3c_uimj1Saxh",
        "outputId": "49023856-065a-4195-e6a1-5dd586dc76b0"
      },
      "execution_count": null,
      "outputs": [
        {
          "output_type": "stream",
          "name": "stdout",
          "text": [
            "enter a number: 1234\n",
            "4321.0\n"
          ]
        }
      ]
    },
    {
      "cell_type": "code",
      "source": [
        "#sum of n natural numbers\n",
        "a=int(input(\"enter the numbers of natural numbers: \"))\n",
        "i=0\n",
        "sum=0\n",
        "while i<=a:\n",
        "  sum=sum+i\n",
        "  i=i+1\n",
        "print(\"sum of \",a,\" natural numbers= \",sum)  "
      ],
      "metadata": {
        "colab": {
          "base_uri": "https://localhost:8080/"
        },
        "id": "VVykOrF7Tmvq",
        "outputId": "c93f7491-71c0-4f25-a2c3-c27c464a5bc1"
      },
      "execution_count": null,
      "outputs": [
        {
          "output_type": "stream",
          "name": "stdout",
          "text": [
            "enter the numbers of natural numbers10\n",
            "sum of  10  natural numbers=  55\n"
          ]
        }
      ]
    },
    {
      "cell_type": "code",
      "source": [
        "#sum of factors of a number\n",
        "a=int(input(\"enter a number: \"))\n",
        "f=2\n",
        "sum=a+1\n",
        "while f<=a//2:\n",
        "  if a%f==0:\n",
        "    sum=sum+f\n",
        "  f=f+1\n",
        "print(sum)\n"
      ],
      "metadata": {
        "colab": {
          "base_uri": "https://localhost:8080/"
        },
        "id": "6itDFr6qTfNS",
        "outputId": "07ae514b-b758-4084-f799-b1ded74c4110"
      },
      "execution_count": null,
      "outputs": [
        {
          "output_type": "stream",
          "name": "stdout",
          "text": [
            "enter a number: 24\n",
            "60\n"
          ]
        }
      ]
    },
    {
      "cell_type": "code",
      "source": [
        "#n term of a arithmetic sequence\n",
        "a=int(input(\"enter the first term: \"))\n",
        "d=int(input(\"enter the common difference: \"))\n",
        "n=int(input(\"enter the number of terms: \"))\n",
        "i=1\n",
        "while i<=n:\n",
        "  print(a)\n",
        "  a=a+d\n",
        "  i=i+1"
      ],
      "metadata": {
        "colab": {
          "base_uri": "https://localhost:8080/"
        },
        "id": "DLt7K5pJWr0z",
        "outputId": "12ffe8b9-8e0e-4347-e67f-ec662c7b270b"
      },
      "execution_count": null,
      "outputs": [
        {
          "output_type": "stream",
          "name": "stdout",
          "text": [
            "enter the first term: 1\n",
            "enter the common difference: 3\n",
            "enter the number of terms: 5\n",
            "1\n",
            "4\n",
            "7\n",
            "10\n",
            "13\n"
          ]
        }
      ]
    },
    {
      "cell_type": "code",
      "source": [
        "#palindrome\n",
        "a=int(input(\"enter a number: \"))\n",
        "sum=0\n",
        "a=n\n",
        "while a>0:\n",
        "  r=a%10\n",
        "  sum=sum*10+r\n",
        "  a=a-r\n",
        "if sum==n:\n",
        "  print(\"given number is a palindrome\")\n",
        "else:\n",
        "   print(\"given number is not a palindrome\") \n"
      ],
      "metadata": {
        "colab": {
          "base_uri": "https://localhost:8080/"
        },
        "id": "r2tLZiSFXanz",
        "outputId": "0a5acb5d-3238-4747-83b5-173f78bfc945"
      },
      "execution_count": null,
      "outputs": [
        {
          "output_type": "stream",
          "name": "stdout",
          "text": [
            "enter a number: 12221\n",
            "given number is a palindrome\n"
          ]
        }
      ]
    },
    {
      "cell_type": "code",
      "source": [
        "#fibonacci series\n",
        "n=int(input(\"enter the number of terms: \"))\n",
        "i=0\n",
        "n1=0\n",
        "n2=1\n",
        "if n==1:\n",
        "  print(\"0\")\n",
        "elif n==2:\n",
        "  print(\"0\",\"1\")\n",
        "else:\n",
        "  print(\"0\"),print(\"1\")\n",
        "  while i<(n-2):\n",
        "    sum=n1+n2\n",
        "    print(sum)\n",
        "    n1=n2\n",
        "    n2=sum\n",
        "    i+=1"
      ],
      "metadata": {
        "colab": {
          "base_uri": "https://localhost:8080/"
        },
        "id": "UUkke4taZhZ1",
        "outputId": "5fc02591-1c89-4254-e4b7-66e013bd1854"
      },
      "execution_count": null,
      "outputs": [
        {
          "output_type": "stream",
          "name": "stdout",
          "text": [
            "enter the number of terms: 6\n",
            "0\n",
            "1\n",
            "1\n",
            "2\n",
            "3\n",
            "5\n"
          ]
        }
      ]
    },
    {
      "cell_type": "code",
      "source": [
        "#armstrong number\n",
        "n=int(input(\"enter a number: \"))\n",
        "t=0\n",
        "a=n\n",
        "b=n\n",
        "sum=0\n",
        "while n>0:\n",
        "  r=n%10\n",
        "  t=t+1\n",
        "  n=(n-r)/10\n",
        "while a>0:\n",
        "  r=a%10\n",
        "  sum=sum+r**t\n",
        "  a=(a-r)/10\n",
        "if sum==b:\n",
        "  print(\"given number is a armstrong number\")\n",
        "else:  \n",
        "    print(\"given number is not a armstrong number\")\n",
        "  \n",
        "\n",
        "\n"
      ],
      "metadata": {
        "id": "NkYWxIkQbg5G",
        "colab": {
          "base_uri": "https://localhost:8080/"
        },
        "outputId": "43ae6edb-6e0f-4bda-9503-8619ccc4a1ca"
      },
      "execution_count": null,
      "outputs": [
        {
          "output_type": "stream",
          "name": "stdout",
          "text": [
            "enter a number: 153\n",
            "given number is a armstrong number\n"
          ]
        }
      ]
    },
    {
      "cell_type": "code",
      "source": [
        "#evaluate x^n\n",
        "base=int(input(\"enter the value of base: \"))\n",
        "power=int(input(\"enter the value of power: \"))\n",
        "result=1\n",
        "a=power\n",
        "if power==0:\n",
        "  result=1\n",
        "else:\n",
        "  while power>0:\n",
        "    result=result*base  \n",
        "    power=power-1\n",
        "print(base,\"^\",a,\"= \",result)    "
      ],
      "metadata": {
        "id": "CQ9FEq1cbV6E",
        "colab": {
          "base_uri": "https://localhost:8080/"
        },
        "outputId": "7b9f029a-c7dc-4772-a9e5-848db078e988"
      },
      "execution_count": null,
      "outputs": [
        {
          "output_type": "stream",
          "name": "stdout",
          "text": [
            "enter the value of base: 5\n",
            "enter the value of power: 3\n",
            "5 ^ 3 =  125\n"
          ]
        }
      ]
    },
    {
      "cell_type": "code",
      "source": [
        "#first n odd numbers\n",
        "n=int(input(\"enter the number of terms: \"))\n",
        "i=1\n",
        "j=1\n",
        "while j<=n:\n",
        "  if i%2==0:\n",
        "    i+=1\n",
        "  else:\n",
        "    print(i)\n",
        "    i+=1    \n",
        "    j+=1 "
      ],
      "metadata": {
        "colab": {
          "base_uri": "https://localhost:8080/"
        },
        "id": "HJJ6jA_8JwPG",
        "outputId": "a8d71bea-612c-45f2-eda4-1da76ec2b81b"
      },
      "execution_count": null,
      "outputs": [
        {
          "output_type": "stream",
          "name": "stdout",
          "text": [
            "enter the number of terms: 5\n",
            "1\n",
            "3\n",
            "5\n",
            "7\n",
            "9\n"
          ]
        }
      ]
    },
    {
      "cell_type": "code",
      "source": [
        "#factorial\n",
        "a=int(input(\"enter a number: \"))\n",
        "i=1\n",
        "p=1\n",
        "while i<=a:\n",
        "  p=p*i\n",
        "  i+=1\n",
        "print(p)\n"
      ],
      "metadata": {
        "colab": {
          "base_uri": "https://localhost:8080/"
        },
        "id": "3wCPTBQ4N4P2",
        "outputId": "861aa5f0-e7f6-494e-d2ba-8c6a3ac21ef2"
      },
      "execution_count": null,
      "outputs": [
        {
          "output_type": "stream",
          "name": "stdout",
          "text": [
            "enter a number: 5\n",
            "120\n"
          ]
        }
      ]
    },
    {
      "cell_type": "code",
      "source": [
        "#binary to decimal\n",
        "b=int(input(\"enter the binary number: \"))\n",
        "sum=0\n",
        "i=0\n",
        "while b>0:\n",
        "  r=b%10\n",
        "  if r==1:\n",
        "    sum=sum+(2**i)\n",
        "  b=(b-r)/10\n",
        "  i+=1\n",
        "\n",
        "  \n",
        "print(sum)    \n"
      ],
      "metadata": {
        "id": "3gVifw0TSNtO",
        "colab": {
          "base_uri": "https://localhost:8080/"
        },
        "outputId": "6281f32e-15cd-49cf-d570-9639ff9ecd84"
      },
      "execution_count": null,
      "outputs": [
        {
          "output_type": "stream",
          "name": "stdout",
          "text": [
            "enter the binary number: 101\n",
            "5\n"
          ]
        }
      ]
    },
    {
      "cell_type": "code",
      "source": [],
      "metadata": {
        "id": "XuNi3Dwd_hoA"
      },
      "execution_count": null,
      "outputs": []
    },
    {
      "cell_type": "markdown",
      "source": [
        "#RAPTOR"
      ],
      "metadata": {
        "id": "_EgPNFWWR9uC"
      }
    },
    {
      "cell_type": "code",
      "source": [
        "#average of three numbers\n",
        "a=int(input(\"enter  number1: \"))\n",
        "b=int(input(\"enter  number2: \"))\n",
        "c=int(input(\"enter  number3: \"))\n",
        "sum=a+b+c\n",
        "avg=sum/3\n",
        "print(\"average =\",avg)\n"
      ],
      "metadata": {
        "colab": {
          "base_uri": "https://localhost:8080/"
        },
        "id": "--riV_Imr-wM",
        "outputId": "257e5749-3fd0-4292-90de-5281f8e315e1"
      },
      "execution_count": null,
      "outputs": [
        {
          "output_type": "stream",
          "name": "stdout",
          "text": [
            "enter  number14\n",
            "enter  number25\n",
            "enter  number36\n",
            "average = 5.0\n"
          ]
        }
      ]
    },
    {
      "cell_type": "code",
      "source": [
        "#area of a circle\n",
        "r=int(input(\"enter the radius of a circle: \"))\n",
        "pi=3.14\n",
        "area = pi*r*r\n",
        "print(\"area of the circle= \",area)"
      ],
      "metadata": {
        "colab": {
          "base_uri": "https://localhost:8080/"
        },
        "id": "vFA0CDugvAUK",
        "outputId": "43138146-51cc-4ca9-95c9-a64296e02ca6"
      },
      "execution_count": null,
      "outputs": [
        {
          "output_type": "stream",
          "name": "stdout",
          "text": [
            "enter the radius of a circle5\n",
            "area of the circle=  78.5\n"
          ]
        }
      ]
    },
    {
      "cell_type": "code",
      "source": [
        "#time prblm\n",
        "t=int(input(\"enter the time in seconds: \"))\n",
        "hrs=(t//3600)\n",
        "mins=(t%3600)//60\n",
        "secs=t-(hrs*3600+mins*60)\n",
        "print(\"hrs: \",hrs)\n",
        "print(\"mins : \",mins)\n",
        "print(\"secs: \",secs)"
      ],
      "metadata": {
        "colab": {
          "base_uri": "https://localhost:8080/"
        },
        "id": "vU6Cg21gsxJ6",
        "outputId": "d61e7f57-3194-4bfc-806d-2734b253754d"
      },
      "execution_count": null,
      "outputs": [
        {
          "output_type": "stream",
          "name": "stdout",
          "text": [
            "enter the time in seconds: 25300\n",
            "hrs:  7\n",
            "mins :  1\n",
            "secs:  40\n"
          ]
        }
      ]
    },
    {
      "cell_type": "code",
      "source": [
        "#interchanging numbers \n",
        "a=int(input(\"enter number1: \"))\n",
        "b=int(input(\"enter number2: \"))\n",
        "a=(a+b)\n",
        "b=(a-b)\n",
        "a=(a-b)\n",
        "print(\"number1= \",a)\n",
        "print(\"number2= \",b)"
      ],
      "metadata": {
        "colab": {
          "base_uri": "https://localhost:8080/"
        },
        "id": "8ftjLI19vuIK",
        "outputId": "d024e3fc-12b5-4582-f8f6-9c80a135c44e"
      },
      "execution_count": null,
      "outputs": [
        {
          "output_type": "stream",
          "name": "stdout",
          "text": [
            "enter number1: 4\n",
            "enter number2: 6\n",
            "number1=  6\n",
            "number2=  4\n"
          ]
        }
      ]
    },
    {
      "cell_type": "code",
      "source": [
        "#maths\n",
        "a=int(input(\"enter number 1: \"))\n",
        "b=int(input(\"enter number 2: \"))\n",
        "sum=a+b\n",
        "diff=a-b\n",
        "pro=a*b\n",
        "q=(a//b)\n",
        "r=a%b\n",
        "print(\"sum= \",sum,\" ,difference= \",diff,\" ,product= \",pro)\n",
        "print(\"qoutient= \",q,\" ,remainder= \",r)"
      ],
      "metadata": {
        "colab": {
          "base_uri": "https://localhost:8080/"
        },
        "id": "CLrPM9vAxL9M",
        "outputId": "47f621e4-b041-45fe-febf-3835dcf65b6e"
      },
      "execution_count": null,
      "outputs": [
        {
          "output_type": "stream",
          "name": "stdout",
          "text": [
            "enter number 1: 8\n",
            "enter number 2: 4\n",
            "sum=  12  ,difference=  4  ,product=  32\n",
            "qoutient=  2  ,remainder=  0\n"
          ]
        }
      ]
    },
    {
      "cell_type": "code",
      "source": [
        "#year prblm\n",
        "d=int(input(\"enter the number of days: \"))\n",
        "yrs =(d//365)\n",
        "mnths=((d%365)//30)\n",
        "dys=d-(yrs*365 + mnths*30)\n",
        "print(\"years: \",yrs,\"months: \",mnths,\"days: \",dys)"
      ],
      "metadata": {
        "colab": {
          "base_uri": "https://localhost:8080/"
        },
        "id": "DeTGltWmzNx6",
        "outputId": "8f78efab-240a-439a-b4ce-fae9bd5512bf"
      },
      "execution_count": null,
      "outputs": [
        {
          "output_type": "stream",
          "name": "stdout",
          "text": [
            "enter the number of days395\n",
            "years:  1 months:  1 days:  0\n"
          ]
        }
      ]
    },
    {
      "cell_type": "code",
      "source": [
        "#area & perimeter of a triangle\n",
        "a=int(input(\"enter the measure of 1st side: \"))\n",
        "b=int(input(\"enter the measure of 2nd side: \"))\n",
        "c=int(input(\"enter the measure of 3rd side: \"))\n",
        "import math\n",
        "p=a+b+c\n",
        "s=p/2\n",
        "area=math.sqrt(s*(s-a)*(s-b)*(s-c))\n",
        "print(\"perimeter= \",p,\"area= \",area)\n"
      ],
      "metadata": {
        "colab": {
          "base_uri": "https://localhost:8080/"
        },
        "id": "bhR0oIts0u2z",
        "outputId": "b6c291d8-2740-4db6-bda0-350354c4eb19"
      },
      "execution_count": null,
      "outputs": [
        {
          "output_type": "stream",
          "name": "stdout",
          "text": [
            "enter the measure of 1st side3\n",
            "enter the measure of 2nd side4\n",
            "enter the measure of 3rd side5\n",
            "perimeter=  12 area=  6.0\n"
          ]
        }
      ]
    },
    {
      "cell_type": "markdown",
      "source": [
        "#CONDITION PROBLEMS"
      ],
      "metadata": {
        "id": "DOUriiF_R4ph"
      }
    },
    {
      "cell_type": "code",
      "source": [
        "#greatest number among 2 numbers\n",
        "a=int(input(\"enter number1: \"))\n",
        "b=int(input(\"enter number2: \"))\n",
        "\n",
        "if a>b:\n",
        "  print(a,\" is greater than \",b)\n",
        "elif b>a:  \n",
        "  print(b,\" is greater than \",a)\n",
        "else:\n",
        "  print(\"both numbers are same\")  "
      ],
      "metadata": {
        "colab": {
          "base_uri": "https://localhost:8080/"
        },
        "id": "024E2HyD6AdT",
        "outputId": "95640473-7bd5-4815-c7b6-58231265a795"
      },
      "execution_count": null,
      "outputs": [
        {
          "output_type": "stream",
          "name": "stdout",
          "text": [
            "enter number1: 0\n",
            "enter number2: 0\n",
            "both numbers are same\n"
          ]
        }
      ]
    },
    {
      "cell_type": "code",
      "source": [
        "#greatest number among 3 numbers\n",
        "a=int(input(\"enter number1: \"))\n",
        "b=int(input(\"enter number2: \"))\n",
        "c=int(input(\"enter number3: \"))\n",
        "if a>b and a>c:\n",
        "  print(a,\" is the greatest number\")\n",
        "elif b>a and b>c:\n",
        "  print(b,\" is the greatest number\")\n",
        "elif c>a and c>b:\n",
        "  print(c,\" is the greatest number\")\n",
        "elif a==b==c:\n",
        "  print(\"all the numbers are same\")  "
      ],
      "metadata": {
        "colab": {
          "base_uri": "https://localhost:8080/"
        },
        "id": "oPK9X9dy8vBj",
        "outputId": "983ee4fe-f46a-4dbb-cb7e-e695c0ee3b6f"
      },
      "execution_count": null,
      "outputs": [
        {
          "output_type": "stream",
          "name": "stdout",
          "text": [
            "enter number1: 4\n",
            "enter number2: 4\n",
            "enter number3: 4\n",
            "all the numbers are same\n"
          ]
        }
      ]
    },
    {
      "cell_type": "code",
      "source": [
        "#positive or negative\n",
        "a=int(input(\"enter a number: \"))\n",
        "if a<0:\n",
        "  print(a,\"is a negative number\")\n",
        "elif a>0:\n",
        "  print(a,\"is a positive number\")\n",
        "else:\n",
        "  print(\"given number is zero\")"
      ],
      "metadata": {
        "colab": {
          "base_uri": "https://localhost:8080/"
        },
        "id": "Ic_G9fqZ-t1g",
        "outputId": "a926eb09-15fb-4340-e201-3f8be0256a8e"
      },
      "execution_count": null,
      "outputs": [
        {
          "output_type": "stream",
          "name": "stdout",
          "text": [
            "enter a number: -145\n",
            "-145 is a negative number\n"
          ]
        }
      ]
    },
    {
      "cell_type": "code",
      "source": [
        "#tow digit or not\n",
        "a=int(input(\"enter a number: \"))\n",
        "if a>97&a<100:\n",
        "  print(\"given number is a two digit number\")\n",
        "else:\n",
        "  print(\"given number is not a two digit number\")"
      ],
      "metadata": {
        "colab": {
          "base_uri": "https://localhost:8080/"
        },
        "id": "ZiLo8zo-C7Q0",
        "outputId": "f790b0b4-956e-4ce7-a93a-52a81daef3a8"
      },
      "execution_count": null,
      "outputs": [
        {
          "output_type": "stream",
          "name": "stdout",
          "text": [
            "enter a number: 98\n",
            "given number is a two digit number\n"
          ]
        }
      ]
    },
    {
      "cell_type": "code",
      "source": [
        "#multiples of each other\n",
        "a=int(input(\"enter number1: \"))\n",
        "b=int(input(\"enter number2: \"))\n",
        "if a%b==0 or b%a==0:\n",
        "  print(\"given numbers are multiples of each other\")\n",
        "else:\n",
        "  print(\"given numbers are not multiples of each other\")\n",
        "\n"
      ],
      "metadata": {
        "colab": {
          "base_uri": "https://localhost:8080/"
        },
        "id": "NmAPiG68HOhA",
        "outputId": "deedfc3b-261e-42f0-c3b9-be37de7701f1"
      },
      "execution_count": null,
      "outputs": [
        {
          "output_type": "stream",
          "name": "stdout",
          "text": [
            "enter number1: 11\n",
            "enter number2: 33\n",
            "given numbers are multiples of each other\n"
          ]
        }
      ]
    },
    {
      "cell_type": "code",
      "source": [
        "#smallest digit in a number\n",
        "num=int(input(\"enter a two digit number: \"))\n",
        "a=num % 10\n",
        "b=(num-a)/10\n",
        "if a>b:\n",
        "  print(b,\" is the smallest digit\")\n",
        "else:\n",
        "  print(a,\" is the smallest digit\")\n",
        "\n"
      ],
      "metadata": {
        "colab": {
          "base_uri": "https://localhost:8080/"
        },
        "id": "-_X8uPWnJ_fI",
        "outputId": "50fbfb08-3dd1-4c78-8fdb-f0738867d28b"
      },
      "execution_count": null,
      "outputs": [
        {
          "output_type": "stream",
          "name": "stdout",
          "text": [
            "enter a two digit number38\n",
            "3.0  is the smallest digit\n"
          ]
        }
      ]
    },
    {
      "cell_type": "code",
      "source": [
        "#distance in a number line\n",
        "a=int(input(\"enter  number1: \"))\n",
        "b=int(input(\"enter  number2: \"))\n",
        "c=a-(b)\n",
        "if c<0:\n",
        "  d=-(c)\n",
        "  print(\"distance is =\",d)\n",
        "else:\n",
        "  print(\"distance is =\",c)"
      ],
      "metadata": {
        "colab": {
          "base_uri": "https://localhost:8080/"
        },
        "id": "A73Ts_tXMb7B",
        "outputId": "33762677-284d-45ee-c828-6b36d9148629"
      },
      "execution_count": null,
      "outputs": [
        {
          "output_type": "stream",
          "name": "stdout",
          "text": [
            "enter  number1: 4\n",
            "enter  number2: -5\n",
            "distance is = 9\n"
          ]
        }
      ]
    },
    {
      "cell_type": "code",
      "source": [
        "#quadratic equation\n",
        "a=int(input(\"enter the coefficient of x^2: \"))\n",
        "b=int(input(\"enter the coefficient of x: \"))\n",
        "c=int(input(\"enter the constant: \"))\n",
        "d=b*b-(4*a*c)\n",
        "if d>0:\n",
        "  print(\"roots are distinct and real\")\n",
        "elif d<0:\n",
        "  print(\"roots are imaginary roots\")\n",
        "else :\n",
        "  print(\"roots are equal\")"
      ],
      "metadata": {
        "colab": {
          "base_uri": "https://localhost:8080/"
        },
        "id": "SQkKmZmRN2Ex",
        "outputId": "70fed61e-5ae2-4311-90c0-4bc6a577b323"
      },
      "execution_count": null,
      "outputs": [
        {
          "output_type": "stream",
          "name": "stdout",
          "text": [
            "enter the coefficient of x^2: 1\n",
            "enter the coefficient of x: 2\n",
            "enter the constant: -15\n",
            "roots are distinct and real\n"
          ]
        }
      ]
    },
    {
      "cell_type": "code",
      "source": [
        "n=int(input(\"enter a number: \"))\n",
        "f=2\n",
        "c=0\n",
        "while f<=n//2:\n",
        "  if n%f==0:\n",
        "    c=c+1\n",
        "    break\n",
        "  f=f+1\n",
        "if c==0:\n",
        "  print(n,\"is a prime\")\n",
        "else:\n",
        "  print(n,\"is not a prime\")"
      ],
      "metadata": {
        "colab": {
          "base_uri": "https://localhost:8080/"
        },
        "id": "O2Y2KMHD93Rb",
        "outputId": "95229ef8-b28b-468f-9eda-a68a14e2b8b9"
      },
      "execution_count": null,
      "outputs": [
        {
          "output_type": "stream",
          "name": "stdout",
          "text": [
            "enter a number: 24\n",
            "24 is not a prime\n"
          ]
        }
      ]
    }
  ]
}